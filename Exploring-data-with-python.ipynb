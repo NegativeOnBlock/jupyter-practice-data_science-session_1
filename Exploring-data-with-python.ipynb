{
 "cells": [
  {
   "cell_type": "code",
   "execution_count": 1,
   "id": "ba056c2e",
   "metadata": {},
   "outputs": [],
   "source": [
    "import pandas as pd"
   ]
  },
  {
   "cell_type": "code",
   "execution_count": 3,
   "id": "5a4e3700",
   "metadata": {},
   "outputs": [
    {
     "data": {
      "text/plain": [
       "['import pandas', 'pd.read_csv()']"
      ]
     },
     "execution_count": 3,
     "metadata": {},
     "output_type": "execute_result"
    }
   ],
   "source": [
    "commands = ['import pandas', 'pd.read_csv()']\n",
    "\n",
    "commands"
   ]
  },
  {
   "cell_type": "code",
   "execution_count": 6,
   "id": "10e57b67",
   "metadata": {},
   "outputs": [
    {
     "data": {
      "text/plain": [
       "['pd.read_csv()', 'pd.read_csv()']"
      ]
     },
     "execution_count": 6,
     "metadata": {},
     "output_type": "execute_result"
    }
   ],
   "source": [
    "commands[0] = 'pd.read_csv()'\n",
    "commands"
   ]
  },
  {
   "cell_type": "code",
   "execution_count": 7,
   "id": "0c86fc61",
   "metadata": {},
   "outputs": [
    {
     "data": {
      "text/plain": [
       "['pd.read_csv()', 'pd.read_csv()', 'dataframe.head()']"
      ]
     },
     "execution_count": 7,
     "metadata": {},
     "output_type": "execute_result"
    }
   ],
   "source": [
    "commands.append('dataframe.head()')\n",
    "\n",
    "commands"
   ]
  },
  {
   "cell_type": "code",
   "execution_count": 9,
   "id": "51beb498",
   "metadata": {},
   "outputs": [
    {
     "data": {
      "text/plain": [
       "3"
      ]
     },
     "execution_count": 9,
     "metadata": {},
     "output_type": "execute_result"
    }
   ],
   "source": [
    "number_of_commands = len(commands)\n",
    "number_of_commands"
   ]
  },
  {
   "cell_type": "code",
   "execution_count": 10,
   "id": "babc1806",
   "metadata": {},
   "outputs": [
    {
     "data": {
      "text/plain": [
       "{'coffee makers': 3635, 'food processors': 2450, 'kettles': 1282}"
      ]
     },
     "execution_count": 10,
     "metadata": {},
     "output_type": "execute_result"
    }
   ],
   "source": [
    "kitchen = {\n",
    "  'coffee makers':3635,\n",
    "  'food processors':2450,\n",
    "  'kettles':1282 }\n",
    "\n",
    "kitchen\n",
    "\n",
    "    \n",
    "    "
   ]
  },
  {
   "cell_type": "code",
   "execution_count": 11,
   "id": "7ff2f5c6",
   "metadata": {},
   "outputs": [
    {
     "data": {
      "text/plain": [
       "{'coffee makers': 3635,\n",
       " 'food processors': 2450,\n",
       " 'kettles': 1282,\n",
       " 'toasters': 910}"
      ]
     },
     "execution_count": 11,
     "metadata": {},
     "output_type": "execute_result"
    }
   ],
   "source": [
    "kitchen['toasters'] = 910\n",
    "\n",
    "kitchen"
   ]
  },
  {
   "cell_type": "code",
   "execution_count": 18,
   "id": "6e720dd0",
   "metadata": {},
   "outputs": [],
   "source": [
    "category ='LAPTOP'\n",
    "category_counts = [452,23, 233, 46, 116, 2, 79]"
   ]
  },
  {
   "cell_type": "code",
   "execution_count": 14,
   "id": "0dd4d168",
   "metadata": {},
   "outputs": [
    {
     "data": {
      "text/plain": [
       "'laptop'"
      ]
     },
     "execution_count": 14,
     "metadata": {},
     "output_type": "execute_result"
    }
   ],
   "source": [
    "category.lower()"
   ]
  },
  {
   "cell_type": "code",
   "execution_count": 19,
   "id": "d5c3e977",
   "metadata": {},
   "outputs": [
    {
     "data": {
      "text/plain": [
       "[2, 23, 46, 79, 116, 233, 452]"
      ]
     },
     "execution_count": 19,
     "metadata": {},
     "output_type": "execute_result"
    }
   ],
   "source": [
    "category_counts.sort()\n",
    "category_counts"
   ]
  },
  {
   "cell_type": "code",
   "execution_count": 20,
   "id": "f840e02b",
   "metadata": {},
   "outputs": [
    {
     "data": {
      "text/plain": [
       "[452, 233, 116, 79, 46, 23, 2]"
      ]
     },
     "execution_count": 20,
     "metadata": {},
     "output_type": "execute_result"
    }
   ],
   "source": [
    "category_counts.sort(reverse=True)\n",
    "category_counts"
   ]
  },
  {
   "cell_type": "code",
   "execution_count": 25,
   "id": "9ac43886",
   "metadata": {},
   "outputs": [
    {
     "data": {
      "text/html": [
       "<div>\n",
       "<style scoped>\n",
       "    .dataframe tbody tr th:only-of-type {\n",
       "        vertical-align: middle;\n",
       "    }\n",
       "\n",
       "    .dataframe tbody tr th {\n",
       "        vertical-align: top;\n",
       "    }\n",
       "\n",
       "    .dataframe thead th {\n",
       "        text-align: right;\n",
       "    }\n",
       "</style>\n",
       "<table border=\"1\" class=\"dataframe\">\n",
       "  <thead>\n",
       "    <tr style=\"text-align: right;\">\n",
       "      <th></th>\n",
       "      <th>genre</th>\n",
       "      <th>sold by</th>\n",
       "      <th>daily average.amazon revenue</th>\n",
       "      <th>daily average.author revenue</th>\n",
       "      <th>daily average.gross sales</th>\n",
       "      <th>daily average.publisher revenue</th>\n",
       "      <th>daily average.units sold</th>\n",
       "      <th>publisher.name</th>\n",
       "      <th>publisher.type</th>\n",
       "      <th>statistics.average rating</th>\n",
       "      <th>statistics.sale price</th>\n",
       "      <th>statistics.sales rank</th>\n",
       "      <th>statistics.total reviews</th>\n",
       "    </tr>\n",
       "  </thead>\n",
       "  <tbody>\n",
       "    <tr>\n",
       "      <th>0</th>\n",
       "      <td>genre fiction</td>\n",
       "      <td>HarperCollins Publishers</td>\n",
       "      <td>6832.0</td>\n",
       "      <td>6832.0</td>\n",
       "      <td>34160.0</td>\n",
       "      <td>20496.0</td>\n",
       "      <td>7000</td>\n",
       "      <td>Katherine Tegen Books</td>\n",
       "      <td>big five</td>\n",
       "      <td>4.57</td>\n",
       "      <td>4.88</td>\n",
       "      <td>1</td>\n",
       "      <td>9604</td>\n",
       "    </tr>\n",
       "    <tr>\n",
       "      <th>1</th>\n",
       "      <td>genre fiction</td>\n",
       "      <td>HarperCollins Publishers</td>\n",
       "      <td>2487.5</td>\n",
       "      <td>2487.5</td>\n",
       "      <td>12437.5</td>\n",
       "      <td>7462.5</td>\n",
       "      <td>6250</td>\n",
       "      <td>HarperCollins e-books</td>\n",
       "      <td>big five</td>\n",
       "      <td>4.47</td>\n",
       "      <td>1.99</td>\n",
       "      <td>2</td>\n",
       "      <td>450</td>\n",
       "    </tr>\n",
       "    <tr>\n",
       "      <th>2</th>\n",
       "      <td>genre fiction</td>\n",
       "      <td>Amazon Digital Services,  Inc.</td>\n",
       "      <td>9559.0</td>\n",
       "      <td>9559.0</td>\n",
       "      <td>47795.0</td>\n",
       "      <td>28677.0</td>\n",
       "      <td>5500</td>\n",
       "      <td>(Small or Medium Publisher)</td>\n",
       "      <td>small/medium</td>\n",
       "      <td>4.16</td>\n",
       "      <td>8.69</td>\n",
       "      <td>3</td>\n",
       "      <td>30</td>\n",
       "    </tr>\n",
       "    <tr>\n",
       "      <th>3</th>\n",
       "      <td>fiction</td>\n",
       "      <td>Hachette Book Group</td>\n",
       "      <td>8250.0</td>\n",
       "      <td>8250.0</td>\n",
       "      <td>41250.0</td>\n",
       "      <td>24750.0</td>\n",
       "      <td>5500</td>\n",
       "      <td>Little, Brown and Company</td>\n",
       "      <td>big five</td>\n",
       "      <td>3.84</td>\n",
       "      <td>7.50</td>\n",
       "      <td>3</td>\n",
       "      <td>3747</td>\n",
       "    </tr>\n",
       "    <tr>\n",
       "      <th>4</th>\n",
       "      <td>genre fiction</td>\n",
       "      <td>Penguin Group (USA) LLC</td>\n",
       "      <td>7590.5</td>\n",
       "      <td>7590.5</td>\n",
       "      <td>37952.5</td>\n",
       "      <td>22771.5</td>\n",
       "      <td>4750</td>\n",
       "      <td>Dutton Children's</td>\n",
       "      <td>big five</td>\n",
       "      <td>4.75</td>\n",
       "      <td>7.99</td>\n",
       "      <td>4</td>\n",
       "      <td>9174</td>\n",
       "    </tr>\n",
       "  </tbody>\n",
       "</table>\n",
       "</div>"
      ],
      "text/plain": [
       "           genre                         sold by  \\\n",
       "0  genre fiction        HarperCollins Publishers   \n",
       "1  genre fiction        HarperCollins Publishers   \n",
       "2  genre fiction  Amazon Digital Services,  Inc.   \n",
       "3        fiction             Hachette Book Group   \n",
       "4  genre fiction         Penguin Group (USA) LLC   \n",
       "\n",
       "   daily average.amazon revenue  daily average.author revenue  \\\n",
       "0                        6832.0                        6832.0   \n",
       "1                        2487.5                        2487.5   \n",
       "2                        9559.0                        9559.0   \n",
       "3                        8250.0                        8250.0   \n",
       "4                        7590.5                        7590.5   \n",
       "\n",
       "   daily average.gross sales  daily average.publisher revenue  \\\n",
       "0                    34160.0                          20496.0   \n",
       "1                    12437.5                           7462.5   \n",
       "2                    47795.0                          28677.0   \n",
       "3                    41250.0                          24750.0   \n",
       "4                    37952.5                          22771.5   \n",
       "\n",
       "   daily average.units sold               publisher.name publisher.type  \\\n",
       "0                      7000        Katherine Tegen Books       big five   \n",
       "1                      6250        HarperCollins e-books       big five   \n",
       "2                      5500  (Small or Medium Publisher)   small/medium   \n",
       "3                      5500    Little, Brown and Company       big five   \n",
       "4                      4750            Dutton Children's       big five   \n",
       "\n",
       "   statistics.average rating  statistics.sale price  statistics.sales rank  \\\n",
       "0                       4.57                   4.88                      1   \n",
       "1                       4.47                   1.99                      2   \n",
       "2                       4.16                   8.69                      3   \n",
       "3                       3.84                   7.50                      3   \n",
       "4                       4.75                   7.99                      4   \n",
       "\n",
       "   statistics.total reviews  \n",
       "0                      9604  \n",
       "1                       450  \n",
       "2                        30  \n",
       "3                      3747  \n",
       "4                      9174  "
      ]
     },
     "execution_count": 25,
     "metadata": {},
     "output_type": "execute_result"
    }
   ],
   "source": [
    "# Dataset source: https://www.kaggle.com/datasets/mexwell/amazon-e-book-publishers/\n",
    "amazon_pub = pd.read_csv('publishers.csv')\n",
    "amazon_pub.head()"
   ]
  },
  {
   "cell_type": "code",
   "execution_count": 29,
   "id": "e5e91085",
   "metadata": {},
   "outputs": [
    {
     "data": {
      "text/plain": [
       "amazon            423\n",
       "single author    3608\n",
       "indie            5946\n",
       "big five         7309\n",
       "small/medium     9741\n",
       "Name: publisher.type, dtype: int64"
      ]
     },
     "execution_count": 29,
     "metadata": {},
     "output_type": "execute_result"
    }
   ],
   "source": [
    "pubtype_counts = amazon_pub['publisher.type'].value_counts(ascending=True)\n",
    "pubtype_counts"
   ]
  },
  {
   "cell_type": "code",
   "execution_count": 27,
   "id": "09f2e2ac",
   "metadata": {},
   "outputs": [
    {
     "data": {
      "text/plain": [
       "nonfiction          14161\n",
       "genre fiction        8903\n",
       "children             2541\n",
       "fiction               733\n",
       "comics                568\n",
       "foreign language      121\n",
       "Name: genre, dtype: int64"
      ]
     },
     "execution_count": 27,
     "metadata": {},
     "output_type": "execute_result"
    }
   ],
   "source": [
    "genre_counts = amazon_pub['genre'].value_counts(ascending=False)\n",
    "genre_counts"
   ]
  },
  {
   "cell_type": "code",
   "execution_count": 35,
   "id": "13341c39",
   "metadata": {},
   "outputs": [
    {
     "data": {
      "text/plain": [
       "nonfiction          0.523958\n",
       "genre fiction       0.329411\n",
       "children            0.094017\n",
       "fiction             0.027121\n",
       "comics              0.021016\n",
       "foreign language    0.004477\n",
       "Name: genre, dtype: float64"
      ]
     },
     "execution_count": 35,
     "metadata": {},
     "output_type": "execute_result"
    }
   ],
   "source": [
    "genre_percents = amazon_pub['genre'].value_counts(normalize=True)\n",
    "genre_percents"
   ]
  },
  {
   "cell_type": "code",
   "execution_count": 36,
   "id": "a08a3e9e",
   "metadata": {},
   "outputs": [
    {
     "data": {
      "text/plain": [
       "foreign language    0.004477\n",
       "comics              0.021016\n",
       "fiction             0.027121\n",
       "children            0.094017\n",
       "genre fiction       0.329411\n",
       "nonfiction          0.523958\n",
       "Name: genre, dtype: float64"
      ]
     },
     "execution_count": 36,
     "metadata": {},
     "output_type": "execute_result"
    }
   ],
   "source": [
    "genre_percents_asc = amazon_pub['genre'].value_counts(ascending=True, normalize=True)\n",
    "genre_percents_asc"
   ]
  },
  {
   "cell_type": "code",
   "execution_count": 37,
   "id": "5d75bbf2",
   "metadata": {},
   "outputs": [
    {
     "data": {
      "text/plain": [
       "count    27027.000000\n",
       "mean        29.614053\n",
       "std        157.739500\n",
       "min          1.000000\n",
       "25%          4.000000\n",
       "50%          9.000000\n",
       "75%         14.000000\n",
       "max       7000.000000\n",
       "Name: daily average.units sold, dtype: float64"
      ]
     },
     "execution_count": 37,
     "metadata": {},
     "output_type": "execute_result"
    }
   ],
   "source": [
    "daily_average_units_sold_description = amazon_pub['daily average.units sold'].describe()\n",
    "daily_average_units_sold_description"
   ]
  },
  {
   "cell_type": "code",
   "execution_count": 38,
   "id": "a242b51c",
   "metadata": {},
   "outputs": [
    {
     "data": {
      "text/plain": [
       "count    27027.000000\n",
       "mean       150.572864\n",
       "std        865.653698\n",
       "min          0.020000\n",
       "25%         16.000000\n",
       "50%         41.860000\n",
       "75%         98.910000\n",
       "max      47795.000000\n",
       "Name: daily average.gross sales, dtype: float64"
      ]
     },
     "execution_count": 38,
     "metadata": {},
     "output_type": "execute_result"
    }
   ],
   "source": [
    "daily_average_gross_sales_description = amazon_pub['daily average.gross sales'].describe()\n",
    "daily_average_gross_sales_description"
   ]
  },
  {
   "cell_type": "code",
   "execution_count": 39,
   "id": "561e4a1c",
   "metadata": {},
   "outputs": [
    {
     "data": {
      "text/plain": [
       "count                              27027\n",
       "unique                                14\n",
       "top       Amazon Digital Services,  Inc.\n",
       "freq                               19548\n",
       "Name: sold by, dtype: object"
      ]
     },
     "execution_count": 39,
     "metadata": {},
     "output_type": "execute_result"
    }
   ],
   "source": [
    "amazon_pub['sold by'].describe()"
   ]
  },
  {
   "cell_type": "code",
   "execution_count": null,
   "id": "05d112b4",
   "metadata": {},
   "outputs": [],
   "source": [
    "#Practice summary, used pandas methods and other various data science related python concepts like: variables, lists, dictionares, methods, etc."
   ]
  }
 ],
 "metadata": {
  "kernelspec": {
   "display_name": "Python 3",
   "language": "python",
   "name": "python3"
  },
  "language_info": {
   "codemirror_mode": {
    "name": "ipython",
    "version": 3
   },
   "file_extension": ".py",
   "mimetype": "text/x-python",
   "name": "python",
   "nbconvert_exporter": "python",
   "pygments_lexer": "ipython3",
   "version": "3.8.10"
  }
 },
 "nbformat": 4,
 "nbformat_minor": 5
}
